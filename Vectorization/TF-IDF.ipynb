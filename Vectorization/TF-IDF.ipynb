{
 "cells": [
  {
   "cell_type": "markdown",
   "id": "b9acffab",
   "metadata": {},
   "source": [
    "# TF-IDF\n",
    "This notebook explains the TF-IDF method in Natural Language Processing (NLP), \n",
    "\n",
    "covering both mathematical foundations and practical implementation in Python."
   ]
  }
 ],
 "metadata": {
  "language_info": {
   "name": "python"
  }
 },
 "nbformat": 4,
 "nbformat_minor": 5
}
