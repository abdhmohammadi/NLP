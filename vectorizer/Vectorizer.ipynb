{
 "cells": [
  {
   "cell_type": "markdown",
   "id": "23b089cb",
   "metadata": {},
   "source": [
    "# Text Vectorization Example\n",
    "\n",
    "This notebook demonstrates how to build a simple text vectorizer from scratch. It covers:\n",
    "- Creating a vocabulary\n",
    "- Encoding text to numerical tokens\n",
    "- Decoding tokens back to text\n",
    "- Handling unknown (out-of-vocabulary) words\n"
   ]
  },
  {
   "cell_type": "markdown",
   "id": "4d795842",
   "metadata": {},
   "source": [
    "## 1. Importing the Vectorizer\n",
    "\n",
    "We start by importing our custom `TextVectorization` module and initializing the `Vectorizer` class. Then, we prepare a small dataset to work with.\n"
   ]
  },
  {
   "cell_type": "code",
   "execution_count": 8,
   "id": "93211287",
   "metadata": {},
   "outputs": [],
   "source": [
    "# Import the custom vectorizer module\n",
    "import TextVectorization as tv\n",
    "\n",
    "# Initialize the vectorizer\n",
    "vectorizer = tv.Vectorizer()\n",
    "\n",
    "# Sample dataset of short sentences\n",
    "dataset = [\n",
    "    \"I write, erase, rewrite\",\n",
    "    \"Erase again, and then\",\n",
    "    \"A poppy blooms.\"\n",
    "]"
   ]
  },
  {
   "cell_type": "markdown",
   "id": "9929069b",
   "metadata": {},
   "source": [
    "## 2. Creating Vocabulary and Encoding/Decoding a Sentence\n",
    "\n",
    "We build the vocabulary from the dataset, encode a sentence into tokens (numbers), and then decode it back into text.\n"
   ]
  },
  {
   "cell_type": "code",
   "execution_count": null,
   "id": "681a2c03",
   "metadata": {},
   "outputs": [
    {
     "name": "stdout",
     "output_type": "stream",
     "text": [
      "Encoded: [2, 3, 4, 5]\n",
      "Decoded: i write erase rewrite\n"
     ]
    }
   ],
   "source": [
    "# Choose the first sentence from the dataset\n",
    "text = dataset[0]\n",
    "\n",
    "# Build vocabulary from the dataset\n",
    "vectorizer.make_vocabulary(dataset)\n",
    "\n",
    "# Encode the sentence to tokens\n",
    "encoded = vectorizer.encode(text)\n",
    "print(f'Encoded: {encoded}')  # Example: [2, 3, 4, 5]\n",
    "\n",
    "# Decode the tokens back to words\n",
    "print(f'Decoded: {vectorizer.decode(encoded)}')  # Example: i write erase rewrite\n"
   ]
  },
  {
   "cell_type": "markdown",
   "id": "463fed94",
   "metadata": {},
   "source": [
    "## 3. Handling Unknown Words\n",
    "\n",
    "Now we try encoding a sentence with words not in the original vocabulary. The unknown words are replaced by a special `[UNK]` token.\n"
   ]
  },
  {
   "cell_type": "code",
   "execution_count": null,
   "id": "51ea9904",
   "metadata": {},
   "outputs": [
    {
     "name": "stdout",
     "output_type": "stream",
     "text": [
      "Encoded: [2, 1, 9, 1]\n",
      "Decoded: i [UNK] a [UNK]\n"
     ]
    }
   ],
   "source": [
    "# Sentence with unknown words (\"have\" and \"book\" are not in training data)\n",
    "text = \"I have a book.\"\n",
    "\n",
    "# Encode and decode\n",
    "encoded = vectorizer.encode(text)\n",
    "print(f'Encoded: {encoded}')  # Example: [2, 1, 9, 1]\n",
    "print(f'Decoded: {vectorizer.decode(encoded)}')  # Example: i [UNK] a [UNK]\n"
   ]
  }
 ],
 "metadata": {
  "kernelspec": {
   "display_name": "Python (abdh_env)",
   "language": "python",
   "name": "abdh_env"
  },
  "language_info": {
   "codemirror_mode": {
    "name": "ipython",
    "version": 3
   },
   "file_extension": ".py",
   "mimetype": "text/x-python",
   "name": "python",
   "nbconvert_exporter": "python",
   "pygments_lexer": "ipython3",
   "version": "3.12.3"
  }
 },
 "nbformat": 4,
 "nbformat_minor": 5
}
