{
  "cells": [
    {
      "cell_type": "markdown",
      "id": "23b089cb",
      "metadata": {
        "id": "23b089cb"
      },
      "source": [
        "# Text Vectorization Example\n",
        "\n",
        "This notebook demonstrates how to build a simple text vectorizer from scratch. It covers:\n",
        "- Creating a vocabulary\n",
        "- Encoding text to numerical tokens\n",
        "- Decoding tokens back to text\n",
        "- Handling unknown (out-of-vocabulary) words\n"
      ]
    },
    {
      "cell_type": "markdown",
      "id": "4d795842",
      "metadata": {
        "id": "4d795842"
      },
      "source": [
        "## 1. Importing the Vectorizer\n",
        "\n",
        "We start by importing our custom `TextVectorization` module and initializing the `Vectorizer` class. Then, we prepare a small dataset to work with.\n"
      ]
    },
    {
      "cell_type": "markdown",
      "id": "4nHz_ZEnKizP",
      "metadata": {
        "id": "4nHz_ZEnKizP"
      },
      "source": [
        "First must be initalize the dataset"
      ]
    },
    {
      "cell_type": "code",
      "execution_count": null,
      "id": "vFmlnZH0KAZw",
      "metadata": {
        "id": "vFmlnZH0KAZw"
      },
      "outputs": [],
      "source": [
        "# Sample dataset of short sentences\n",
        "dataset = [\n",
        "    \"I write, erase, rewrite\",\n",
        "    \"Erase again, and then\",\n",
        "    \"A poppy blooms.\"\n",
        "]"
      ]
    },
    {
      "cell_type": "code",
      "execution_count": 2,
      "id": "93211287",
      "metadata": {
        "id": "93211287"
      },
      "outputs": [],
      "source": [
        "# Import the vectorizer module\n",
        "import TextVectorization as tv\n",
        "\n",
        "# Initialize the vectorizer\n",
        "vectorizer = tv.Vectorizer()\n"
      ]
    },
    {
      "cell_type": "markdown",
      "id": "9929069b",
      "metadata": {
        "id": "9929069b"
      },
      "source": [
        "## 2. Creating Vocabulary\n",
        "\n",
        "Encoding/Decoding a Sentence\n",
        "\n",
        "We build the vocabulary from the dataset, encode a sentence into tokens (numbers), and then decode it back into text.\n"
      ]
    },
    {
      "cell_type": "code",
      "execution_count": 7,
      "id": "681a2c03",
      "metadata": {
        "id": "681a2c03",
        "outputId": "84526e39-fa73-41bd-96ab-475549455b61"
      },
      "outputs": [
        {
          "name": "stdout",
          "output_type": "stream",
          "text": [
            "Encoded: [2, 3, 5, 7, 1, 5, 6]\n",
            "Decoded: i write rewrite and [UNK] rewrite again\n"
          ]
        }
      ],
      "source": [
        "# Build vocabulary from the dataset\n",
        "vectorizer.make_vocabulary(dataset)\n",
        "test_sentence = \"I write, rewrite, and still rewrite again\"\n",
        "# Encode the sentence to tokens\n",
        "encoded = vectorizer.encode(test_sentence)\n",
        "print(f'Encoded: {encoded}')  # Example: [2, 3, 4, 5]\n",
        "\n",
        "# Decode the tokens back to words\n",
        "print(f'Decoded: {vectorizer.decode(encoded)}')  # Example: i write erase rewrite\n"
      ]
    },
    {
      "cell_type": "markdown",
      "id": "463fed94",
      "metadata": {
        "id": "463fed94"
      },
      "source": [
        "## 3. Handling Unknown Words\n",
        "\n",
        "Now we try encoding a sentence with words not in the original vocabulary. The unknown words are replaced by a special `[UNK]` token.\n"
      ]
    },
    {
      "cell_type": "code",
      "execution_count": null,
      "id": "51ea9904",
      "metadata": {
        "id": "51ea9904",
        "outputId": "0a48e694-ec53-496a-a347-f4b18de2dfb4"
      },
      "outputs": [
        {
          "name": "stdout",
          "output_type": "stream",
          "text": [
            "Encoded: [2, 1, 9, 1, 1]\n",
            "Decoded: i [UNK] a [UNK] [UNK]\n"
          ]
        }
      ],
      "source": [
        "sample_text = \"I am a book lover\"\n",
        "encoded = vectorizer.encode(sample_text)\n",
        "print(f'Encoded: {encoded}') \n",
        "print(f'Decoded: {vectorizer.decode(encoded)}')\n"
      ]
    },
    {
      "cell_type": "markdown",
      "id": "af9ccd29",
      "metadata": {},
      "source": [
        "The result shows three `[KNK]` cases associated with three locations marked with `index = 1`."
      ]
    },
    {
      "cell_type": "markdown",
      "id": "k4R3QM-nHvP7",
      "metadata": {
        "id": "k4R3QM-nHvP7"
      },
      "source": [
        "## 4. TextVectorization by Keras\n",
        "\n",
        "To build vocabulary in Kras, just call `tv.adapt(dataset)`.\n"
      ]
    },
    {
      "cell_type": "code",
      "execution_count": null,
      "id": "pWxsSyP1H3HW",
      "metadata": {
        "id": "pWxsSyP1H3HW"
      },
      "outputs": [],
      "source": [
        "from tensorflow.keras.layers import TextVectorization\n",
        "\n",
        "# Create a vectorizer based on keras layers\n",
        "tv = TextVectorization(output_mode=\"int\")\n",
        "\n",
        "# make a dictionary\n",
        "tv.adapt(dataset)"
      ]
    },
    {
      "cell_type": "markdown",
      "id": "988bd684",
      "metadata": {},
      "source": [
        "**Encoding/Decoding using `keras`**"
      ]
    },
    {
      "cell_type": "code",
      "execution_count": 16,
      "id": "AFAKQgQtPMKk",
      "metadata": {
        "colab": {
          "base_uri": "https://localhost:8080/"
        },
        "id": "AFAKQgQtPMKk",
        "outputId": "8f4bf45a-d08b-492e-e356-9e8eb3b2617e"
      },
      "outputs": [
        {
          "name": "stdout",
          "output_type": "stream",
          "text": [
            "Encoded: [ 7  3  5  9  1  5 10]\n",
            "Decoded: i write rewrite and [UNK] rewrite again\n"
          ]
        }
      ],
      "source": [
        "voc = tv.get_vocabulary()\n",
        "test_sentence = \"I write, rewrite, and still rewrite again\"\n",
        "encoded = tv(test_sentence)\n",
        "print(f'Encoded: {encoded}')\n",
        "\n",
        "inverse_voc = dict(enumerate(voc))\n",
        "\n",
        "decoded = \" \".join(inverse_voc[int(i)] for i in encoded)\n",
        "\n",
        "print(f'Decoded: {decoded}')"
      ]
    },
    {
      "cell_type": "markdown",
      "id": "cff9e87b",
      "metadata": {},
      "source": [
        "the vector generated by `keras`  : [ 7, 3, 5, 9, 1, 5, 10]\n",
        "\n",
        "the vector generated from scratch: [2, 3, 5, 7, 1, 5, 6]\n",
        "\n",
        "the results is deferent becuase indexing method is deferent."
      ]
    }
  ],
  "metadata": {
    "colab": {
      "provenance": []
    },
    "kernelspec": {
      "display_name": "nlp_env",
      "language": "python",
      "name": "python3"
    },
    "language_info": {
      "codemirror_mode": {
        "name": "ipython",
        "version": 3
      },
      "file_extension": ".py",
      "mimetype": "text/x-python",
      "name": "python",
      "nbconvert_exporter": "python",
      "pygments_lexer": "ipython3",
      "version": "3.12.3"
    }
  },
  "nbformat": 4,
  "nbformat_minor": 5
}
